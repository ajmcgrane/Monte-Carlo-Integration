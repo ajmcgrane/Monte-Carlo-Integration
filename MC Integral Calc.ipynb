{
 "cells": [
  {
   "cell_type": "markdown",
   "id": "f6f68a7a-99e9-4190-8864-6129e251df49",
   "metadata": {},
   "source": [
    "# Monte Carlo Integration Calculator"
   ]
  },
  {
   "cell_type": "markdown",
   "id": "e8f8506e-86c7-4433-b3f1-8faa73f9886a",
   "metadata": {},
   "source": [
    "### An Honors Project for Prof. Bognar's STAT:2020 by Aidan McGrane"
   ]
  },
  {
   "cell_type": "markdown",
   "id": "25fe9f3f-b821-43e8-9664-d79212976d97",
   "metadata": {},
   "source": [
    "The intuition behind Monte Carlo integration begins with the definition of the average value of a function $f$, which is given by:\n",
    "$$\\overline{f} = \\frac{1}{b-a}\\int_a^b f(x)dx$$"
   ]
  },
  {
   "cell_type": "markdown",
   "id": "d9383339-dbce-4bbe-8412-b4197c6a460c",
   "metadata": {},
   "source": [
    "Our goal is to evaluate the integral, so we rearrange to get:\n",
    "$$\\int_a^b f(x)dx = (b-a)\\cdot \\overline{f}$$"
   ]
  },
  {
   "cell_type": "markdown",
   "id": "01cde52b-3397-4bc8-b3c0-5401ba465412",
   "metadata": {},
   "source": [
    "So, we know that we can approximate the value of the integral by approximating the average value of the function."
   ]
  },
  {
   "cell_type": "markdown",
   "id": "c2ec7976-78ad-429b-a534-5a5f03ba8fbc",
   "metadata": {},
   "source": [
    "The Monte Carlo approach to approximating $\\overline{f}$ takes a sample of $N$ uniformly distributed independent random points over the interval $[a, b]$."
   ]
  },
  {
   "cell_type": "markdown",
   "id": "7502db63-8dc7-4e46-bd2c-7c2a3edc09f7",
   "metadata": {},
   "source": [
    "For each random point $X_i\\in[a, b]$, we evaluate the function values at these points, giving us $f(X_1), f(X_2), \\dots, f(X_N)$."
   ]
  },
  {
   "cell_type": "markdown",
   "id": "30f1e5de-4600-4103-8c37-2204ca706387",
   "metadata": {},
   "source": [
    "Taking the average of these function values provides our estimate of the true average function value, which can be described by:\n",
    "$$\\overline{f} \\approx \\frac{1}{N} \\sum_{i=1}^{N}f(X_i)$$"
   ]
  },
  {
   "cell_type": "markdown",
   "id": "19f6a819-1d90-4e2d-9f07-de7b793ffe09",
   "metadata": {},
   "source": [
    ">By the Law of Large Numbers, this sample mean approaches the true average function value as $N \\to \\infty$."
   ]
  },
  {
   "cell_type": "markdown",
   "id": "8fb346f3-26ce-4ec1-96e7-fa907ff3b278",
   "metadata": {},
   "source": [
    "We can now update our previous integral formula to utilize this estimate, and we have the"
   ]
  },
  {
   "cell_type": "markdown",
   "id": "be9d7f1e-6bfa-4835-a0c4-1934d87f9308",
   "metadata": {},
   "source": [
    " __Monte Carlo integration formula__:\n",
    "$$\\int_a^b f(x)dx \\approx (b-a) \\cdot \\frac{1}{N} \\sum_{i=1}^{N}f(X_i)$$"
   ]
  },
  {
   "cell_type": "markdown",
   "id": "64fddd06-f0bb-4bfa-b388-27a511aa1c7d",
   "metadata": {},
   "source": [
    "Implementing this formula in Python is a straightforward process with four steps."
   ]
  },
  {
   "cell_type": "markdown",
   "id": "581edf4d-cfe8-4e4c-ab38-75dac3cfe447",
   "metadata": {},
   "source": [
    "1. Generate $N$ random points $X_1, X_2, \\dots, X_N$ uniformly in the interval $[a, b]$.\n",
    "2. Evaluate $f(X_i)$ for each point $X_i$.\n",
    "3. Compute the average of these function values.\n",
    "4. Multiply by $(b-a)$ to approximate the integral."
   ]
  },
  {
   "cell_type": "code",
   "execution_count": 2,
   "id": "b70d33a0-268d-4f52-be8f-4d38cf9c2545",
   "metadata": {
    "tags": []
   },
   "outputs": [],
   "source": [
    "import numpy as np\n",
    "#function to be integrated\n",
    "def f(x):\n",
    "    return (np.sin(x)) #we'll try f(x) = sin(x)\n",
    "\n",
    "#integrates f(x) from a to b using N random samples\n",
    "def monteCarloIntegration(a, b, N):\n",
    "    xrand = np.random.uniform(a, b, N)  #1\n",
    "    fxrand = f(xrand)                   #2\n",
    "    averagefx = np.sum(fxrand) / N      #3\n",
    "    answer = (b - a) * averagefx        #4\n",
    "    return answer"
   ]
  },
  {
   "cell_type": "markdown",
   "id": "62379310-0954-429a-b160-5e5d34f204eb",
   "metadata": {},
   "source": [
    "> Note: `np.random.uniform(a, b, N)` technically uses the interval $[a, b)$, but $P(X_i=b)=0$ for $X_i\\sim U[a, b]$ anyway, so this is fine."
   ]
  },
  {
   "cell_type": "markdown",
   "id": "34e408bb-dfd5-4246-8680-a32399fa8618",
   "metadata": {},
   "source": [
    "Let's test it out! We know $\\int_0^{2\\pi} \\sin(x)dx = 0$, so we can see how close our new calculator gets."
   ]
  },
  {
   "cell_type": "code",
   "execution_count": 17,
   "id": "186271b1-63ae-4c78-b3fe-4bb39a6cde71",
   "metadata": {
    "tags": []
   },
   "outputs": [
    {
     "data": {
      "text/plain": [
       "np.float64(-0.01986745172301726)"
      ]
     },
     "execution_count": 17,
     "metadata": {},
     "output_type": "execute_result"
    }
   ],
   "source": [
    "#inputs\n",
    "a = 0\n",
    "b = 2 * np.pi\n",
    "N = 100000\n",
    "\n",
    "monteCarloIntegration(a, b, N)"
   ]
  },
  {
   "cell_type": "markdown",
   "id": "e3a2c8b9-c916-426c-90ec-ad60bb71730d",
   "metadata": {},
   "source": [
    "That seems pretty good. However, \"seems pretty good\" for a single trial isn't a great measure of performance."
   ]
  },
  {
   "cell_type": "markdown",
   "id": "e42be293-ca0d-4721-a3b7-0c8a06c6425f",
   "metadata": {},
   "source": [
    "So, we will analyze our estimation by looking at its distribution."
   ]
  },
  {
   "cell_type": "markdown",
   "id": "c9947681-8ed0-4ce9-88af-9bb1ee9768f5",
   "metadata": {},
   "source": [
    "Our Monte Carlo integration estimate is a random variable, given by $I \\sim \\mathcal{N}\\left(\\mu_I, \\sigma_I^2\\right)$."
   ]
  },
  {
   "cell_type": "markdown",
   "id": "3bc7051c-1f30-4cdb-9079-f1c7ce60ce86",
   "metadata": {},
   "source": [
    "> We know it follows a Normal distribution using the Central Limit Theorem, because our sample size $N$ is much larger than 30, but we'll show it later."
   ]
  },
  {
   "cell_type": "markdown",
   "id": "3823e43c-28bb-4e86-b99f-ff901730eba5",
   "metadata": {},
   "source": [
    "#### Expected Value"
   ]
  },
  {
   "cell_type": "markdown",
   "id": "f71a3d3d-cd4f-4b76-879d-9a76f8fb1211",
   "metadata": {},
   "source": [
    "Since each $X_i$ is i.i.d., each $f(X_i)$ is also i.i.d., which means that"
   ]
  },
  {
   "cell_type": "markdown",
   "id": "bf764ec2-d541-472b-8c54-c3a1b96660f9",
   "metadata": {},
   "source": [
    " $\\mathbb{E} \\left[\\sum_{i=1}^{N}f(X_i)\\right] = N\\cdot\\mathbb{E}[f(X)]$."
   ]
  },
  {
   "cell_type": "markdown",
   "id": "5fa7d486-6176-42b4-a250-de92bfc12bdd",
   "metadata": {},
   "source": [
    "So, the expected value of our integral estimate $I$ is given by $\\mathbb{E}[I] = (b - a) \\cdot \\mathbb{E}[f(X)]$."
   ]
  },
  {
   "cell_type": "markdown",
   "id": "adf7f1c9-fff2-43e5-9203-49be9d6ab1b7",
   "metadata": {},
   "source": [
    "This relationship can be summarized by:"
   ]
  },
  {
   "cell_type": "markdown",
   "id": "5cc01e84-7aea-443a-b857-3a51f17627b3",
   "metadata": {},
   "source": [
    "$$\n",
    "\\mathbb{E}[I] = \\mu_I = (b - a) \\cdot \\mathbb{E}[f(X)] = \\int_a^b f(x)dx\n",
    "$$"
   ]
  },
  {
   "cell_type": "markdown",
   "id": "a48c4894-60b7-494f-ad6a-bc50189a4a3a",
   "metadata": {},
   "source": [
    "#### Variance"
   ]
  },
  {
   "cell_type": "markdown",
   "id": "e7fcd3a5-77db-433e-9e8e-82fdd36b1600",
   "metadata": {},
   "source": [
    "Since the variance of a sum of independent variables is the sum of their variances, it follows that"
   ]
  },
  {
   "cell_type": "markdown",
   "id": "a4150b64-4d16-4c29-a4fa-c47cec590d66",
   "metadata": {
    "tags": []
   },
   "source": [
    " $\\mathrm{Var} \\left[\\sum_{i=1}^{N}f(X_i)\\right] = N\\cdot\\mathrm{Var}[f(X)]$."
   ]
  },
  {
   "cell_type": "markdown",
   "id": "de5db4cf-fb2e-426f-939a-ecf4304bb986",
   "metadata": {},
   "source": [
    "$I$ is defined as $I = (b-a) \\cdot \\frac{1}{N} \\sum_{i=1}^{N}f(X_i)$ from our Monte Carlo integration formula."
   ]
  },
  {
   "cell_type": "markdown",
   "id": "9bc0c02f-aeaf-42fd-aae9-bb91473cb7f5",
   "metadata": {},
   "source": [
    "Applying the property that \n",
    "$\\mathrm{Var} [cX] = c^2\\mathrm{Var} [X]$ \n",
    " to this equation gives \n",
    "$\\mathrm{Var} [I] = \\left(\\frac{b-a}{N}\\right)^2 \\cdot N \\cdot \\mathrm{Var}[f(X)]$, which simplifies to:"
   ]
  },
  {
   "cell_type": "markdown",
   "id": "62530b25-da17-4df7-a612-c00373060fd6",
   "metadata": {
    "tags": []
   },
   "source": [
    "$$\\mathrm{Var} [I] = \\sigma_I ^ 2 = \\frac{(b-a)^2}{N} \\cdot \\mathrm{Var}[f(X)]$$"
   ]
  },
  {
   "cell_type": "markdown",
   "id": "f1b144f7-7196-4bba-a893-2d921a239d5e",
   "metadata": {},
   "source": [
    "#### Distribution"
   ]
  },
  {
   "cell_type": "markdown",
   "id": "599b8988-63b2-4831-8a56-d17325047f35",
   "metadata": {},
   "source": [
    "We can now see that the distribution of $I$ is given by:"
   ]
  },
  {
   "cell_type": "markdown",
   "id": "b8f0e605-0260-4c36-b87a-84e62b74f2b4",
   "metadata": {},
   "source": [
    "$$I \\sim \\mathcal{N}\\left(\\mu_I = (b - a) \\cdot \\mathbb{E}[f(X)], \\sigma_I^2 = \\frac{(b-a)^2}{N} \\cdot \\mathrm{Var}[f(X)]\\right)$$"
   ]
  },
  {
   "cell_type": "markdown",
   "id": "bf260f28-b0f3-451f-99a8-2fe7156fb555",
   "metadata": {},
   "source": [
    "$\\mu_I$ equals the value of the integral of our function $f$, as desired."
   ]
  },
  {
   "cell_type": "markdown",
   "id": "b6024c7c-4364-4566-9c9d-125ee19506bf",
   "metadata": {},
   "source": [
    "Variance is equivalent to squared error, so we can define our error as $\\sigma_I = \\sqrt{\\frac{(b-a)^2 \\cdot \\mathrm{Var}[f(X)]}{N}}$."
   ]
  },
  {
   "cell_type": "markdown",
   "id": "9ffbb45d-1c41-4e77-9401-38415e74db80",
   "metadata": {},
   "source": [
    "$b$, $a$, and $\\mathrm{Var}[f(X)]$ are all constant values based on inputs, so we can define a constant $c$ such that \n",
    "$c = (b-a)^2 \\cdot \\mathrm{Var}[f(X)]$."
   ]
  },
  {
   "cell_type": "markdown",
   "id": "4407b804-8071-4132-8991-b1c6bead7da2",
   "metadata": {},
   "source": [
    "This gives us $\\sigma_I = \\frac{\\sqrt{c}}{\\sqrt{N}}$."
   ]
  },
  {
   "cell_type": "markdown",
   "id": "7b789563-0b45-4235-9b7f-72c9aaa44bed",
   "metadata": {},
   "source": [
    "Thus, it becomes clear that as we increase our sample size $N$, our error decreases at a rate proportional to $\\sqrt{N}$."
   ]
  },
  {
   "cell_type": "markdown",
   "id": "c2e419ac-b138-4964-8b71-1e25d9839805",
   "metadata": {},
   "source": [
    "Our convergence rate of $I$ can therefore be described as $$\\mathcal{O}\\left(\\frac{1}{\\sqrt{N}}\\right)$$"
   ]
  },
  {
   "cell_type": "markdown",
   "id": "dd58eb06-cc17-4f08-a20d-f1f09fd33463",
   "metadata": {
    "tags": []
   },
   "source": [
    "Now, we have a fuller understanding of the accuracy of our Monte Carlo integration calculator."
   ]
  },
  {
   "cell_type": "markdown",
   "id": "278b1ee1-822f-4eb3-b3bb-183a9514d2f6",
   "metadata": {},
   "source": [
    "#### Testing Results"
   ]
  },
  {
   "cell_type": "markdown",
   "id": "b6c6d268-ffac-47c8-aef0-9d3e384ba1fe",
   "metadata": {},
   "source": [
    "With this computation done, we can now test to see if experimental results back up the answers we found."
   ]
  },
  {
   "cell_type": "markdown",
   "id": "e43eb75d-6318-4937-9167-36a3be65a9c4",
   "metadata": {},
   "source": [
    "Continuing with our example of $\\int_0^{2\\pi} \\sin(x)dx$, we can run our calculator repeatedly, and see if results center around $0$ and match our calculated variance."
   ]
  },
  {
   "cell_type": "markdown",
   "id": "ad8c9b3d-2397-4a74-b54b-3430330af821",
   "metadata": {},
   "source": [
    "We can calculate the variance of $\\sin(x)$ over the interval $[0,2\\pi]$ as follows:"
   ]
  },
  {
   "cell_type": "markdown",
   "id": "968c706c-32ee-42b0-82d1-86228a91b232",
   "metadata": {},
   "source": [
    "$$\\begin{align}\n",
    "\\mathbb{E}[f(X)^2] &= \\frac{1}{b-a}\\int_a^b f^2(x)dx &=& \\frac{1}{b-a}\\int_a^b \\sin^2(x)dx &=& \\frac{1}{2} \\\\\n",
    "(\\mathbb{E}[f(X)])^2 &= \\left(\\frac{1}{b-a}\\int_a^b f(x)dx\\right)^2 &=& \\left(\\frac{1}{b-a}\\int_a^b \\sin(x)dx\\right)^2 &=& 0 \\\\\n",
    "\\mathrm{Var}[f(X)] &= \\mathbb{E}[f(X)^2] - (\\mathbb{E}[f(X)])^2 &=& \\frac{1}{2} - 0 &=& \\frac{1}{2}\n",
    "\\end{align}$$"
   ]
  },
  {
   "cell_type": "markdown",
   "id": "da6cd2cd-c54e-4255-b6ca-8b4c1970492d",
   "metadata": {},
   "source": [
    "Now, we can find the variance of our integral estimate $I$ as:\n",
    "$$\\sigma_I^2 = \\frac{(b-a)^2}{N} \\cdot \\mathrm{Var}[\\sin(X)] = \\frac{4\\pi^2}{100000} \\cdot \\frac{1}{2} = \\frac{\\pi^2}{50000} \\approx 0.000197392$$"
   ]
  },
  {
   "cell_type": "markdown",
   "id": "15fcff90-b4e6-4352-957f-a130913ce8d2",
   "metadata": {},
   "source": [
    "So, we can write our distribution for $I$ for $\\sin(x)$ as:\n",
    "$$I \\sim \\mathcal{N}\\left(\\mu_I = 0, \\sigma_I^2 = 0.000197392\\right)$$"
   ]
  },
  {
   "cell_type": "markdown",
   "id": "3503934b-a555-44d8-9380-d9f101abc215",
   "metadata": {},
   "source": [
    "Let's check if our calculator closely matches this over $1000$ trials."
   ]
  },
  {
   "cell_type": "code",
   "execution_count": 40,
   "id": "19e5acd0-59ed-443d-9516-f1c11128126b",
   "metadata": {
    "tags": []
   },
   "outputs": [
    {
     "name": "stdout",
     "output_type": "stream",
     "text": [
      "mean: \n",
      "3.6169760003265215e-05\n",
      "var: \n",
      "0.00019692474804538764\n"
     ]
    }
   ],
   "source": [
    "#same inputs as before\n",
    "trials = np.zeros(1000)\n",
    "for i in range(1000):\n",
    "    trials[i] = monteCarloIntegration(a, b, N)\n",
    "\n",
    "print(\"mean: \")\n",
    "print(np.mean(trials))\n",
    "print(\"var: \")\n",
    "print(np.var(trials))"
   ]
  },
  {
   "cell_type": "markdown",
   "id": "19610fa2-1b5f-476f-8105-f487b16e0f35",
   "metadata": {},
   "source": [
    "We can see that it does!"
   ]
  },
  {
   "cell_type": "code",
   "execution_count": 41,
   "id": "52a0a64c-c1cf-4021-9c5e-be9e4d010dfb",
   "metadata": {
    "tags": []
   },
   "outputs": [
    {
     "data": {
      "image/png": "[encoded data removed]",
      "text/plain": [
       "<Figure size 640x480 with 1 Axes>"
      ]
     },
     "metadata": {},
     "output_type": "display_data"
    }
   ],
   "source": [
    "import matplotlib.pyplot as plt\n",
    "#plot histogram\n",
    "plt.hist(trials, bins=30, edgecolor='black')\n",
    "plt.title(\"Histogram of Monte Carlo Integration Trials\")\n",
    "plt.xlabel(\"Estimated Integral Value\")\n",
    "plt.ylabel(\"Frequency\")\n",
    "plt.grid(True)\n",
    "plt.show()"
   ]
  },
  {
   "cell_type": "markdown",
   "id": "38ac2edd-d7be-4fef-ad62-d6e8fb15a148",
   "metadata": {},
   "source": [
    "Plotting our trials confirms our results visually, as we can clearly see a Normal Distribution curve centered around $0$."
   ]
  },
  {
   "cell_type": "markdown",
   "id": "6879d7fd-91f0-4a45-8a65-432a470e64e8",
   "metadata": {},
   "source": [
    "Additionally, this Normal curve supports our use of the Central Limit Theorem!"
   ]
  }
 ],
 "metadata": {
  "kernelspec": {
   "display_name": "Python 3 (ipykernel)",
   "language": "python",
   "name": "python3"
  },
  "language_info": {
   "codemirror_mode": {
    "name": "ipython",
    "version": 3
   },
   "file_extension": ".py",
   "mimetype": "text/x-python",
   "name": "python",
   "nbconvert_exporter": "python",
   "pygments_lexer": "ipython3",
   "version": "3.10.8"
  },
  "toc-autonumbering": false
 },
 "nbformat": 4,
 "nbformat_minor": 5
}
